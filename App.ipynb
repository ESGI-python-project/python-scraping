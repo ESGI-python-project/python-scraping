{
 "cells": [
  {
   "cell_type": "code",
   "execution_count": 43,
   "id": "73874b63",
   "metadata": {},
   "outputs": [
    {
     "name": "stdout",
     "output_type": "stream",
     "text": [
      "['Plein soleil', 'bichette']\n"
     ]
    }
   ],
   "source": [
    "#action = input()\n",
    "\n",
    "#while action != \"0\":\n",
    "#    print(f\"affichage dépendant de l'action {action}\")\n",
    "#    action = input()\n",
    "\n",
    "import importlib\n",
    "importlib.reload(RestoManager)\n",
    "\n",
    "RestoManager.addResto(\"Plein soleil\")\n",
    "RestoManager.addResto(\"bichette\")\n",
    "\n",
    "print(RestoManager.getRestos())\n"
   ]
  },
  {
   "cell_type": "markdown",
   "id": "ff26f196",
   "metadata": {},
   "source": []
  },
  {
   "cell_type": "code",
   "execution_count": null,
   "id": "dac2de9e",
   "metadata": {},
   "outputs": [],
   "source": []
  }
 ],
 "metadata": {
  "kernelspec": {
   "display_name": "Python 3 (ipykernel)",
   "language": "python",
   "name": "python3"
  },
  "language_info": {
   "codemirror_mode": {
    "name": "ipython",
    "version": 3
   },
   "file_extension": ".py",
   "mimetype": "text/x-python",
   "name": "python",
   "nbconvert_exporter": "python",
   "pygments_lexer": "ipython3",
   "version": "3.9.7"
  }
 },
 "nbformat": 4,
 "nbformat_minor": 5
}
