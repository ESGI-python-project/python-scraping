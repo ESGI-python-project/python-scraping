{
 "cells": [
  {
   "cell_type": "code",
   "execution_count": null,
   "id": "3bf24360",
   "metadata": {},
   "outputs": [],
   "source": [
    "import json\n",
    "\n",
    "def addResto(title):\n",
    "    listResto = []\n",
    "    listResto = json.load(\"resto.json\")\n",
    "    listResto.append({\n",
    "        \"Titre\": title\n",
    "    })\n",
    "    with open(\"resto.json\", \"w\") as json_file:\n",
    "        json.dump({\"Restos\":list(listResto.values())}, json_file)\n",
    "\n",
    "def deleteResto(title):\n",
    "    listResto = []\n",
    "    listResto = json.load(\"resto.json\")\n",
    "    res = []\n",
    "    for listResto[\"Restos\"] as restaurant:\n",
    "        if lien[\"Titre\"] != title:\n",
    "            res.append(restaurant)\n",
    "    with open(\"resto.json\", \"w\") as json_file:\n",
    "        json.dump({\"Restos\":res}, json_file)\n",
    "\n",
    "def getRestos():\n",
    "    listResto = []\n",
    "    listResto = json.load(\"resto.json\")\n",
    "    return listResto[\"Restos\"]\n"
   ]
  }
 ],
 "metadata": {
  "kernelspec": {
   "display_name": "Python 3 (ipykernel)",
   "language": "python",
   "name": "python3"
  },
  "language_info": {
   "codemirror_mode": {
    "name": "ipython",
    "version": 3
   },
   "file_extension": ".py",
   "mimetype": "text/x-python",
   "name": "python",
   "nbconvert_exporter": "python",
   "pygments_lexer": "ipython3",
   "version": "3.9.7"
  }
 },
 "nbformat": 4,
 "nbformat_minor": 5
}
