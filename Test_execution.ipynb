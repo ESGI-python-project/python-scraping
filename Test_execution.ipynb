{
 "cells": [
  {
   "cell_type": "code",
   "execution_count": 1,
   "id": "3eef68ba",
   "metadata": {},
   "outputs": [],
   "source": [
    "# import importlib\n",
    "\n",
    "# importlib.reload(Scraping)\n",
    "\n",
    "import Scraping"
   ]
  },
  {
   "cell_type": "code",
   "execution_count": 2,
   "id": "da836544",
   "metadata": {},
   "outputs": [],
   "source": [
    "resto1 =\"Plein soleil\"\n",
    "resto2 =\"bichette\"\n",
    "resto3 =\"justin\"\n",
    "resto4 = \"nous\""
   ]
  },
  {
   "cell_type": "code",
   "execution_count": 3,
   "id": "e0583e65",
   "metadata": {},
   "outputs": [
    {
     "data": {
      "text/plain": [
       "[{'tripadvisor': {'Note\\xa0': ' 4/5'}},\n",
       " {'thefork': {'Note\\xa0': ' 9,2/10'}},\n",
       " {'facebook': {'Note\\xa0': ' 4,8/5'}},\n",
       " {'restaurantguru': {'Note\\xa0': ' 4/5'}}]"
      ]
     },
     "execution_count": 3,
     "metadata": {},
     "output_type": "execute_result"
    }
   ],
   "source": [
    "Scraping.get_resto_avis(resto1)"
   ]
  },
  {
   "cell_type": "code",
   "execution_count": 4,
   "id": "981079e5",
   "metadata": {},
   "outputs": [
    {
     "data": {
      "text/plain": [
       "[{'tripadvisor': {'Note\\xa0': ' 5/5'}},\n",
       " {'thefork': {'Note\\xa0': ' 9,1/10'}},\n",
       " {'telerama': {'Note\\xa0': ' 4/5'}},\n",
       " {'mappy': {'Note\\xa0': ' 9,1/10'}},\n",
       " {'privateaser': {'Note\\xa0': ' 4,3/5'}}]"
      ]
     },
     "execution_count": 4,
     "metadata": {},
     "output_type": "execute_result"
    }
   ],
   "source": [
    "Scraping.get_resto_avis(resto2)"
   ]
  },
  {
   "cell_type": "code",
   "execution_count": 5,
   "id": "225ab208",
   "metadata": {},
   "outputs": [
    {
     "data": {
      "text/plain": [
       "[{'tripadvisor': {'Note\\xa0': ' 4/5'}},\n",
       " {'restaurantguru': {'Note\\xa0': ' 4,6/5'}}]"
      ]
     },
     "execution_count": 5,
     "metadata": {},
     "output_type": "execute_result"
    }
   ],
   "source": [
    "Scraping.get_resto_avis(resto3)"
   ]
  },
  {
   "cell_type": "code",
   "execution_count": 6,
   "id": "3c1a0cec",
   "metadata": {},
   "outputs": [
    {
     "data": {
      "text/plain": [
       "[{'thefork': {'Note\\xa0': ' 9/10'}},\n",
       " {'facebook': {'Note\\xa0': ' 4,8/5'}},\n",
       " {'tripadvisor': {'Note\\xa0': ' 4/5'}}]"
      ]
     },
     "execution_count": 6,
     "metadata": {},
     "output_type": "execute_result"
    }
   ],
   "source": [
    "Scraping.get_resto_avis(resto4)"
   ]
  },
  {
   "cell_type": "code",
   "execution_count": null,
   "id": "2f491785",
   "metadata": {},
   "outputs": [],
   "source": []
  }
 ],
 "metadata": {
  "kernelspec": {
   "display_name": "Python 3 (ipykernel)",
   "language": "python",
   "name": "python3"
  },
  "language_info": {
   "codemirror_mode": {
    "name": "ipython",
    "version": 3
   },
   "file_extension": ".py",
   "mimetype": "text/x-python",
   "name": "python",
   "nbconvert_exporter": "python",
   "pygments_lexer": "ipython3",
   "version": "3.8.8"
  }
 },
 "nbformat": 4,
 "nbformat_minor": 5
}
